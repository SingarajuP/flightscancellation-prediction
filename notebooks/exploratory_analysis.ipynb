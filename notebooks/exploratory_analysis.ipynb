{
 "cells": [
  {
   "cell_type": "code",
   "execution_count": 1,
   "id": "fde9e63d",
   "metadata": {},
   "outputs": [],
   "source": [
    "import pandas as pd\n",
    "import numpy as np\n",
    "import matplotlib.pyplot as plt\n",
    "import seaborn as sns\n",
    "import datetime as dt\n",
    "from datetime import datetime\n",
    "import scipy.stats as stats\n",
    "from scipy.stats import kstest"
   ]
  },
  {
   "cell_type": "code",
   "execution_count": 4,
   "id": "b36139d7",
   "metadata": {},
   "outputs": [],
   "source": [
    "flights = pd.read_csv(\"../data/flights_sample5pct.csv\",low_memory=False)\n",
    "passengers=pd.read_csv(\"../data/passengers.csv\")\n",
    "fuel=pd.read_csv(\"../data/fuel_comsumption.csv\")"
   ]
  },
  {
   "cell_type": "code",
   "execution_count": 7,
   "id": "64130037",
   "metadata": {},
   "outputs": [
    {
     "data": {
      "text/html": [
       "<div>\n",
       "<style scoped>\n",
       "    .dataframe tbody tr th:only-of-type {\n",
       "        vertical-align: middle;\n",
       "    }\n",
       "\n",
       "    .dataframe tbody tr th {\n",
       "        vertical-align: top;\n",
       "    }\n",
       "\n",
       "    .dataframe thead th {\n",
       "        text-align: right;\n",
       "    }\n",
       "</style>\n",
       "<table border=\"1\" class=\"dataframe\">\n",
       "  <thead>\n",
       "    <tr style=\"text-align: right;\">\n",
       "      <th></th>\n",
       "      <th>Unnamed: 0</th>\n",
       "      <th>fl_date</th>\n",
       "      <th>mkt_unique_carrier</th>\n",
       "      <th>branded_code_share</th>\n",
       "      <th>mkt_carrier</th>\n",
       "      <th>mkt_carrier_fl_num</th>\n",
       "      <th>op_unique_carrier</th>\n",
       "      <th>tail_num</th>\n",
       "      <th>op_carrier_fl_num</th>\n",
       "      <th>origin_airport_id</th>\n",
       "      <th>...</th>\n",
       "      <th>distance</th>\n",
       "      <th>carrier_delay</th>\n",
       "      <th>weather_delay</th>\n",
       "      <th>nas_delay</th>\n",
       "      <th>security_delay</th>\n",
       "      <th>late_aircraft_delay</th>\n",
       "      <th>first_dep_time</th>\n",
       "      <th>total_add_gtime</th>\n",
       "      <th>longest_add_gtime</th>\n",
       "      <th>no_name</th>\n",
       "    </tr>\n",
       "  </thead>\n",
       "  <tbody>\n",
       "    <tr>\n",
       "      <th>0</th>\n",
       "      <td>0</td>\n",
       "      <td>2018-09-20</td>\n",
       "      <td>DL</td>\n",
       "      <td>DL_CODESHARE</td>\n",
       "      <td>DL</td>\n",
       "      <td>7362</td>\n",
       "      <td>OO</td>\n",
       "      <td>N8942A</td>\n",
       "      <td>7362</td>\n",
       "      <td>13459</td>\n",
       "      <td>...</td>\n",
       "      <td>300</td>\n",
       "      <td>NaN</td>\n",
       "      <td>NaN</td>\n",
       "      <td>NaN</td>\n",
       "      <td>NaN</td>\n",
       "      <td>NaN</td>\n",
       "      <td>NaN</td>\n",
       "      <td>NaN</td>\n",
       "      <td>NaN</td>\n",
       "      <td>NaN</td>\n",
       "    </tr>\n",
       "    <tr>\n",
       "      <th>1</th>\n",
       "      <td>1</td>\n",
       "      <td>2018-09-20</td>\n",
       "      <td>DL</td>\n",
       "      <td>DL_CODESHARE</td>\n",
       "      <td>DL</td>\n",
       "      <td>7369</td>\n",
       "      <td>OO</td>\n",
       "      <td>N429SW</td>\n",
       "      <td>7369</td>\n",
       "      <td>10333</td>\n",
       "      <td>...</td>\n",
       "      <td>69</td>\n",
       "      <td>NaN</td>\n",
       "      <td>NaN</td>\n",
       "      <td>NaN</td>\n",
       "      <td>NaN</td>\n",
       "      <td>NaN</td>\n",
       "      <td>NaN</td>\n",
       "      <td>NaN</td>\n",
       "      <td>NaN</td>\n",
       "      <td>NaN</td>\n",
       "    </tr>\n",
       "    <tr>\n",
       "      <th>2</th>\n",
       "      <td>2</td>\n",
       "      <td>2018-09-20</td>\n",
       "      <td>DL</td>\n",
       "      <td>DL_CODESHARE</td>\n",
       "      <td>DL</td>\n",
       "      <td>7383</td>\n",
       "      <td>OO</td>\n",
       "      <td>N979EV</td>\n",
       "      <td>7383</td>\n",
       "      <td>11122</td>\n",
       "      <td>...</td>\n",
       "      <td>320</td>\n",
       "      <td>NaN</td>\n",
       "      <td>NaN</td>\n",
       "      <td>NaN</td>\n",
       "      <td>NaN</td>\n",
       "      <td>NaN</td>\n",
       "      <td>NaN</td>\n",
       "      <td>NaN</td>\n",
       "      <td>NaN</td>\n",
       "      <td>NaN</td>\n",
       "    </tr>\n",
       "    <tr>\n",
       "      <th>3</th>\n",
       "      <td>3</td>\n",
       "      <td>2018-09-20</td>\n",
       "      <td>DL</td>\n",
       "      <td>DL_CODESHARE</td>\n",
       "      <td>DL</td>\n",
       "      <td>7406</td>\n",
       "      <td>OO</td>\n",
       "      <td>N429SW</td>\n",
       "      <td>7406</td>\n",
       "      <td>13459</td>\n",
       "      <td>...</td>\n",
       "      <td>349</td>\n",
       "      <td>NaN</td>\n",
       "      <td>NaN</td>\n",
       "      <td>NaN</td>\n",
       "      <td>NaN</td>\n",
       "      <td>NaN</td>\n",
       "      <td>NaN</td>\n",
       "      <td>NaN</td>\n",
       "      <td>NaN</td>\n",
       "      <td>NaN</td>\n",
       "    </tr>\n",
       "    <tr>\n",
       "      <th>4</th>\n",
       "      <td>4</td>\n",
       "      <td>2018-09-20</td>\n",
       "      <td>DL</td>\n",
       "      <td>DL_CODESHARE</td>\n",
       "      <td>DL</td>\n",
       "      <td>7408</td>\n",
       "      <td>OO</td>\n",
       "      <td>N465SW</td>\n",
       "      <td>7408</td>\n",
       "      <td>14150</td>\n",
       "      <td>...</td>\n",
       "      <td>69</td>\n",
       "      <td>0.0</td>\n",
       "      <td>0.0</td>\n",
       "      <td>16.0</td>\n",
       "      <td>0.0</td>\n",
       "      <td>57.0</td>\n",
       "      <td>NaN</td>\n",
       "      <td>NaN</td>\n",
       "      <td>NaN</td>\n",
       "      <td>NaN</td>\n",
       "    </tr>\n",
       "  </tbody>\n",
       "</table>\n",
       "<p>5 rows × 43 columns</p>\n",
       "</div>"
      ],
      "text/plain": [
       "   Unnamed: 0     fl_date mkt_unique_carrier branded_code_share mkt_carrier  \\\n",
       "0           0  2018-09-20                 DL       DL_CODESHARE          DL   \n",
       "1           1  2018-09-20                 DL       DL_CODESHARE          DL   \n",
       "2           2  2018-09-20                 DL       DL_CODESHARE          DL   \n",
       "3           3  2018-09-20                 DL       DL_CODESHARE          DL   \n",
       "4           4  2018-09-20                 DL       DL_CODESHARE          DL   \n",
       "\n",
       "   mkt_carrier_fl_num op_unique_carrier tail_num  op_carrier_fl_num  \\\n",
       "0                7362                OO   N8942A               7362   \n",
       "1                7369                OO   N429SW               7369   \n",
       "2                7383                OO   N979EV               7383   \n",
       "3                7406                OO   N429SW               7406   \n",
       "4                7408                OO   N465SW               7408   \n",
       "\n",
       "   origin_airport_id  ... distance carrier_delay  weather_delay nas_delay  \\\n",
       "0              13459  ...      300           NaN            NaN       NaN   \n",
       "1              10333  ...       69           NaN            NaN       NaN   \n",
       "2              11122  ...      320           NaN            NaN       NaN   \n",
       "3              13459  ...      349           NaN            NaN       NaN   \n",
       "4              14150  ...       69           0.0            0.0      16.0   \n",
       "\n",
       "  security_delay  late_aircraft_delay  first_dep_time  total_add_gtime  \\\n",
       "0            NaN                  NaN             NaN              NaN   \n",
       "1            NaN                  NaN             NaN              NaN   \n",
       "2            NaN                  NaN             NaN              NaN   \n",
       "3            NaN                  NaN             NaN              NaN   \n",
       "4            0.0                 57.0             NaN              NaN   \n",
       "\n",
       "   longest_add_gtime  no_name  \n",
       "0                NaN      NaN  \n",
       "1                NaN      NaN  \n",
       "2                NaN      NaN  \n",
       "3                NaN      NaN  \n",
       "4                NaN      NaN  \n",
       "\n",
       "[5 rows x 43 columns]"
      ]
     },
     "execution_count": 7,
     "metadata": {},
     "output_type": "execute_result"
    }
   ],
   "source": [
    "flights.head()"
   ]
  },
  {
   "cell_type": "code",
   "execution_count": 6,
   "id": "8535b10f",
   "metadata": {},
   "outputs": [
    {
     "data": {
      "text/plain": [
       "Unnamed: 0                  0\n",
       "fl_date                     0\n",
       "mkt_unique_carrier          0\n",
       "branded_code_share          0\n",
       "mkt_carrier                 0\n",
       "mkt_carrier_fl_num          0\n",
       "op_unique_carrier           0\n",
       "tail_num                 2514\n",
       "op_carrier_fl_num           0\n",
       "origin_airport_id           0\n",
       "origin                      0\n",
       "origin_city_name            0\n",
       "dest_airport_id             0\n",
       "dest                        0\n",
       "dest_city_name              0\n",
       "crs_dep_time                0\n",
       "dep_time                12909\n",
       "dep_delay               13147\n",
       "taxi_out                13591\n",
       "wheels_off              13591\n",
       "wheels_on               13983\n",
       "taxi_in                 13983\n",
       "crs_arr_time                0\n",
       "arr_time                13683\n",
       "arr_delay               15508\n",
       "cancelled                   0\n",
       "cancellation_code      782924\n",
       "diverted                    0\n",
       "dup                         0\n",
       "crs_elapsed_time            2\n",
       "actual_elapsed_time     15379\n",
       "air_time                15679\n",
       "flights                     0\n",
       "distance                    0\n",
       "carrier_delay          645775\n",
       "weather_delay          645775\n",
       "nas_delay              645775\n",
       "security_delay         645775\n",
       "late_aircraft_delay    645775\n",
       "first_dep_time         790882\n",
       "total_add_gtime        790882\n",
       "longest_add_gtime      790882\n",
       "no_name                796328\n",
       "dtype: int64"
      ]
     },
     "execution_count": 6,
     "metadata": {},
     "output_type": "execute_result"
    }
   ],
   "source": [
    "flights.isna().sum()\n"
   ]
  },
  {
   "cell_type": "code",
   "execution_count": 8,
   "id": "72154835",
   "metadata": {},
   "outputs": [],
   "source": [
    "# Flights columns to drop due to high Nans\n",
    "drop_cols = ['carrier_delay',\n",
    "'weather_delay',\n",
    "'nas_delay',\n",
    "'security_delay',\n",
    "'late_aircraft_delay',\n",
    "'first_dep_time',\n",
    "'total_add_gtime',\n",
    "'longest_add_gtime',\n",
    "'no_name','cancellation_code']\n",
    "flights = flights.drop(drop_cols, axis =1)"
   ]
  },
  {
   "cell_type": "code",
   "execution_count": 10,
   "id": "f2f6e61d",
   "metadata": {},
   "outputs": [
    {
     "data": {
      "text/plain": [
       "departures_scheduled     0\n",
       "departures_performed     0\n",
       "payload                  0\n",
       "seats                    0\n",
       "passengers               0\n",
       "freight                  0\n",
       "mail                     0\n",
       "distance                 0\n",
       "ramp_to_ramp             0\n",
       "air_time                 0\n",
       "unique_carrier           0\n",
       "airline_id               0\n",
       "unique_carrier_name      0\n",
       "region                   0\n",
       "carrier                  0\n",
       "carrier_name             0\n",
       "carrier_group            0\n",
       "carrier_group_new        0\n",
       "origin_airport_id        0\n",
       "origin_city_market_id    0\n",
       "origin                   0\n",
       "origin_city_name         0\n",
       "origin_country           3\n",
       "origin_country_name      0\n",
       "dest_airport_id          0\n",
       "dest_city_market_id      0\n",
       "dest                     0\n",
       "dest_city_name           0\n",
       "dest_country             0\n",
       "dest_country_name        0\n",
       "aircraft_group           0\n",
       "aircraft_type            0\n",
       "aircraft_config          0\n",
       "year                     0\n",
       "month                    0\n",
       "distance_group           0\n",
       "class                    0\n",
       "data_source              0\n",
       "dtype: int64"
      ]
     },
     "execution_count": 10,
     "metadata": {},
     "output_type": "execute_result"
    }
   ],
   "source": [
    "passengers.isna().sum()\n"
   ]
  },
  {
   "cell_type": "code",
   "execution_count": 11,
   "id": "9b5ea6ca",
   "metadata": {},
   "outputs": [
    {
     "data": {
      "text/plain": [
       "month                0\n",
       "airline_id           1\n",
       "unique_carrier       1\n",
       "carrier              0\n",
       "carrier_name         1\n",
       "carrier_group_new    0\n",
       "sdomt_gallons        1\n",
       "satl_gallons         1\n",
       "spac_gallons         1\n",
       "slat_gallons         2\n",
       "sint_gallons         1\n",
       "ts_gallons           1\n",
       "tdomt_gallons        3\n",
       "tint_gallons         1\n",
       "total_gallons        6\n",
       "sdomt_cost           0\n",
       "satl_cost            1\n",
       "spac_cost            1\n",
       "slat_cost            1\n",
       "sint_cost            1\n",
       "ts_cost              0\n",
       "tdomt_cost           0\n",
       "tint_cost            1\n",
       "total_cost           0\n",
       "year                 0\n",
       "dtype: int64"
      ]
     },
     "execution_count": 11,
     "metadata": {},
     "output_type": "execute_result"
    }
   ],
   "source": [
    "fuel.isna().sum()\n"
   ]
  },
  {
   "cell_type": "code",
   "execution_count": 12,
   "id": "0c4dbf3c",
   "metadata": {},
   "outputs": [
    {
     "data": {
      "text/html": [
       "<div>\n",
       "<style scoped>\n",
       "    .dataframe tbody tr th:only-of-type {\n",
       "        vertical-align: middle;\n",
       "    }\n",
       "\n",
       "    .dataframe tbody tr th {\n",
       "        vertical-align: top;\n",
       "    }\n",
       "\n",
       "    .dataframe thead th {\n",
       "        text-align: right;\n",
       "    }\n",
       "</style>\n",
       "<table border=\"1\" class=\"dataframe\">\n",
       "  <thead>\n",
       "    <tr style=\"text-align: right;\">\n",
       "      <th></th>\n",
       "      <th>Unnamed: 0</th>\n",
       "      <th>fl_date</th>\n",
       "      <th>mkt_unique_carrier</th>\n",
       "      <th>branded_code_share</th>\n",
       "      <th>mkt_carrier</th>\n",
       "      <th>mkt_carrier_fl_num</th>\n",
       "      <th>op_unique_carrier</th>\n",
       "      <th>tail_num</th>\n",
       "      <th>op_carrier_fl_num</th>\n",
       "      <th>origin_airport_id</th>\n",
       "      <th>...</th>\n",
       "      <th>arr_time</th>\n",
       "      <th>arr_delay</th>\n",
       "      <th>cancelled</th>\n",
       "      <th>diverted</th>\n",
       "      <th>dup</th>\n",
       "      <th>crs_elapsed_time</th>\n",
       "      <th>actual_elapsed_time</th>\n",
       "      <th>air_time</th>\n",
       "      <th>flights</th>\n",
       "      <th>distance</th>\n",
       "    </tr>\n",
       "  </thead>\n",
       "  <tbody>\n",
       "    <tr>\n",
       "      <th>0</th>\n",
       "      <td>0</td>\n",
       "      <td>2018-09-20</td>\n",
       "      <td>DL</td>\n",
       "      <td>DL_CODESHARE</td>\n",
       "      <td>DL</td>\n",
       "      <td>7362</td>\n",
       "      <td>OO</td>\n",
       "      <td>N8942A</td>\n",
       "      <td>7362</td>\n",
       "      <td>13459</td>\n",
       "      <td>...</td>\n",
       "      <td>732.0</td>\n",
       "      <td>-17.0</td>\n",
       "      <td>0</td>\n",
       "      <td>0</td>\n",
       "      <td>N</td>\n",
       "      <td>78.0</td>\n",
       "      <td>69.0</td>\n",
       "      <td>58.0</td>\n",
       "      <td>1</td>\n",
       "      <td>300</td>\n",
       "    </tr>\n",
       "    <tr>\n",
       "      <th>1</th>\n",
       "      <td>1</td>\n",
       "      <td>2018-09-20</td>\n",
       "      <td>DL</td>\n",
       "      <td>DL_CODESHARE</td>\n",
       "      <td>DL</td>\n",
       "      <td>7369</td>\n",
       "      <td>OO</td>\n",
       "      <td>N429SW</td>\n",
       "      <td>7369</td>\n",
       "      <td>10333</td>\n",
       "      <td>...</td>\n",
       "      <td>557.0</td>\n",
       "      <td>-16.0</td>\n",
       "      <td>0</td>\n",
       "      <td>0</td>\n",
       "      <td>N</td>\n",
       "      <td>45.0</td>\n",
       "      <td>40.0</td>\n",
       "      <td>19.0</td>\n",
       "      <td>1</td>\n",
       "      <td>69</td>\n",
       "    </tr>\n",
       "    <tr>\n",
       "      <th>2</th>\n",
       "      <td>2</td>\n",
       "      <td>2018-09-20</td>\n",
       "      <td>DL</td>\n",
       "      <td>DL_CODESHARE</td>\n",
       "      <td>DL</td>\n",
       "      <td>7383</td>\n",
       "      <td>OO</td>\n",
       "      <td>N979EV</td>\n",
       "      <td>7383</td>\n",
       "      <td>11122</td>\n",
       "      <td>...</td>\n",
       "      <td>1256.0</td>\n",
       "      <td>-13.0</td>\n",
       "      <td>0</td>\n",
       "      <td>0</td>\n",
       "      <td>N</td>\n",
       "      <td>84.0</td>\n",
       "      <td>80.0</td>\n",
       "      <td>62.0</td>\n",
       "      <td>1</td>\n",
       "      <td>320</td>\n",
       "    </tr>\n",
       "    <tr>\n",
       "      <th>3</th>\n",
       "      <td>3</td>\n",
       "      <td>2018-09-20</td>\n",
       "      <td>DL</td>\n",
       "      <td>DL_CODESHARE</td>\n",
       "      <td>DL</td>\n",
       "      <td>7406</td>\n",
       "      <td>OO</td>\n",
       "      <td>N429SW</td>\n",
       "      <td>7406</td>\n",
       "      <td>13459</td>\n",
       "      <td>...</td>\n",
       "      <td>1617.0</td>\n",
       "      <td>-18.0</td>\n",
       "      <td>0</td>\n",
       "      <td>0</td>\n",
       "      <td>N</td>\n",
       "      <td>85.0</td>\n",
       "      <td>74.0</td>\n",
       "      <td>57.0</td>\n",
       "      <td>1</td>\n",
       "      <td>349</td>\n",
       "    </tr>\n",
       "    <tr>\n",
       "      <th>4</th>\n",
       "      <td>4</td>\n",
       "      <td>2018-09-20</td>\n",
       "      <td>DL</td>\n",
       "      <td>DL_CODESHARE</td>\n",
       "      <td>DL</td>\n",
       "      <td>7408</td>\n",
       "      <td>OO</td>\n",
       "      <td>N465SW</td>\n",
       "      <td>7408</td>\n",
       "      <td>14150</td>\n",
       "      <td>...</td>\n",
       "      <td>2342.0</td>\n",
       "      <td>73.0</td>\n",
       "      <td>0</td>\n",
       "      <td>0</td>\n",
       "      <td>N</td>\n",
       "      <td>39.0</td>\n",
       "      <td>55.0</td>\n",
       "      <td>30.0</td>\n",
       "      <td>1</td>\n",
       "      <td>69</td>\n",
       "    </tr>\n",
       "  </tbody>\n",
       "</table>\n",
       "<p>5 rows × 33 columns</p>\n",
       "</div>"
      ],
      "text/plain": [
       "   Unnamed: 0     fl_date mkt_unique_carrier branded_code_share mkt_carrier  \\\n",
       "0           0  2018-09-20                 DL       DL_CODESHARE          DL   \n",
       "1           1  2018-09-20                 DL       DL_CODESHARE          DL   \n",
       "2           2  2018-09-20                 DL       DL_CODESHARE          DL   \n",
       "3           3  2018-09-20                 DL       DL_CODESHARE          DL   \n",
       "4           4  2018-09-20                 DL       DL_CODESHARE          DL   \n",
       "\n",
       "   mkt_carrier_fl_num op_unique_carrier tail_num  op_carrier_fl_num  \\\n",
       "0                7362                OO   N8942A               7362   \n",
       "1                7369                OO   N429SW               7369   \n",
       "2                7383                OO   N979EV               7383   \n",
       "3                7406                OO   N429SW               7406   \n",
       "4                7408                OO   N465SW               7408   \n",
       "\n",
       "   origin_airport_id  ... arr_time arr_delay  cancelled diverted dup  \\\n",
       "0              13459  ...    732.0     -17.0          0        0   N   \n",
       "1              10333  ...    557.0     -16.0          0        0   N   \n",
       "2              11122  ...   1256.0     -13.0          0        0   N   \n",
       "3              13459  ...   1617.0     -18.0          0        0   N   \n",
       "4              14150  ...   2342.0      73.0          0        0   N   \n",
       "\n",
       "   crs_elapsed_time  actual_elapsed_time  air_time  flights  distance  \n",
       "0              78.0                 69.0      58.0        1       300  \n",
       "1              45.0                 40.0      19.0        1        69  \n",
       "2              84.0                 80.0      62.0        1       320  \n",
       "3              85.0                 74.0      57.0        1       349  \n",
       "4              39.0                 55.0      30.0        1        69  \n",
       "\n",
       "[5 rows x 33 columns]"
      ]
     },
     "execution_count": 12,
     "metadata": {},
     "output_type": "execute_result"
    }
   ],
   "source": [
    "flights.head()"
   ]
  },
  {
   "cell_type": "markdown",
   "id": "4de1d1d4",
   "metadata": {},
   "source": [
    "##### Test the hypothesis that the delay is from Normal distribution. and that mean of the delay is 0.\n"
   ]
  },
  {
   "cell_type": "code",
   "execution_count": 13,
   "id": "9a5ff395",
   "metadata": {},
   "outputs": [
    {
     "name": "stdout",
     "output_type": "stream",
     "text": [
      "2.5544032368277465\n",
      "3.639123034896315\n"
     ]
    }
   ],
   "source": [
    "delays = pd.concat([flights.arr_delay, flights.dep_delay], axis = 0)\n",
    "delays_3std = delays[~((delays -delays.mean()).abs() > 3*delays.std())]\n",
    "print(delays_3std.skew()) \n",
    "print(delays_3std.mean()) "
   ]
  },
  {
   "cell_type": "code",
   "execution_count": 14,
   "id": "d4bd901f",
   "metadata": {},
   "outputs": [
    {
     "data": {
      "text/plain": [
       "<AxesSubplot:>"
      ]
     },
     "execution_count": 14,
     "metadata": {},
     "output_type": "execute_result"
    },
    {
     "data": {
      "image/png": "[encoded data removed]",
      "text/plain": [
       "<Figure size 432x288 with 1 Axes>"
      ]
     },
     "metadata": {
      "needs_background": "light"
     },
     "output_type": "display_data"
    }
   ],
   "source": [
    "delays_3std.hist()"
   ]
  },
  {
   "cell_type": "code",
   "execution_count": 15,
   "id": "14c198e5",
   "metadata": {},
   "outputs": [
    {
     "data": {
      "text/plain": [
       "<AxesSubplot:>"
      ]
     },
     "execution_count": 15,
     "metadata": {},
     "output_type": "execute_result"
    },
    {
     "data": {
      "image/png": "[encoded data removed]",
      "text/plain": [
       "<Figure size 432x288 with 1 Axes>"
      ]
     },
     "metadata": {
      "needs_background": "light"
     },
     "output_type": "display_data"
    }
   ],
   "source": [
    "delays_3std.plot(kind='box')"
   ]
  },
  {
   "cell_type": "code",
   "execution_count": 16,
   "id": "cac293a7",
   "metadata": {},
   "outputs": [
    {
     "name": "stdout",
     "output_type": "stream",
     "text": [
      "0.5572811278444391 0.0\n"
     ]
    }
   ],
   "source": [
    "delays_3std.fillna(delays_3std.mean(),inplace=True)\n",
    "\n",
    "ks_statistic, p_value = kstest(delays_3std, 'norm',)\n",
    "print(ks_statistic, p_value)"
   ]
  },
  {
   "cell_type": "code",
   "execution_count": 17,
   "id": "160c8c0c",
   "metadata": {},
   "outputs": [
    {
     "name": "stderr",
     "output_type": "stream",
     "text": [
      "/Users/phanisingaraju/opt/anaconda3/lib/python3.9/site-packages/scipy/stats/morestats.py:1760: UserWarning: p-value may not be accurate for N > 5000.\n",
      "  warnings.warn(\"p-value may not be accurate for N > 5000.\")\n"
     ]
    },
    {
     "data": {
      "text/plain": [
       "ShapiroResult(statistic=0.7326246500015259, pvalue=0.0)"
      ]
     },
     "execution_count": 17,
     "metadata": {},
     "output_type": "execute_result"
    }
   ],
   "source": [
    "stats.shapiro(delays_3std)\n"
   ]
  },
  {
   "cell_type": "markdown",
   "id": "118f106c",
   "metadata": {},
   "source": [
    " Pvalue < 0.05 so we assume this is not normally distributed"
   ]
  },
  {
   "cell_type": "markdown",
   "id": "187c4b6f",
   "metadata": {},
   "source": [
    "##### Is average/median monthly delay different during the year? If yes, which are months with the biggest delays and what could be the reason?"
   ]
  },
  {
   "cell_type": "code",
   "execution_count": 20,
   "id": "97ac6385",
   "metadata": {},
   "outputs": [],
   "source": [
    "date_split = flights['fl_date'].str.split('-')\n",
    "date_split[:3]\n",
    "flights['year'] = [x[0] for x in date_split]\n",
    "flights['month'] = [x[1] for x in date_split]\n",
    "flights['day'] = [x[2] for x in date_split]"
   ]
  },
  {
   "cell_type": "code",
   "execution_count": 21,
   "id": "9d340500",
   "metadata": {},
   "outputs": [],
   "source": [
    "flights_sample_delay = flights.filter(['year','month','dep_delay','arr_delay'], axis=1)"
   ]
  },
  {
   "cell_type": "code",
   "execution_count": 22,
   "id": "0bb7c8b1",
   "metadata": {},
   "outputs": [
    {
     "data": {
      "text/html": [
       "<div>\n",
       "<style scoped>\n",
       "    .dataframe tbody tr th:only-of-type {\n",
       "        vertical-align: middle;\n",
       "    }\n",
       "\n",
       "    .dataframe tbody tr th {\n",
       "        vertical-align: top;\n",
       "    }\n",
       "\n",
       "    .dataframe thead th {\n",
       "        text-align: right;\n",
       "    }\n",
       "</style>\n",
       "<table border=\"1\" class=\"dataframe\">\n",
       "  <thead>\n",
       "    <tr style=\"text-align: right;\">\n",
       "      <th></th>\n",
       "      <th>year</th>\n",
       "      <th>month</th>\n",
       "      <th>dep_delay</th>\n",
       "      <th>arr_delay</th>\n",
       "    </tr>\n",
       "  </thead>\n",
       "  <tbody>\n",
       "    <tr>\n",
       "      <th>0</th>\n",
       "      <td>2018</td>\n",
       "      <td>09</td>\n",
       "      <td>-8.0</td>\n",
       "      <td>-17.0</td>\n",
       "    </tr>\n",
       "    <tr>\n",
       "      <th>1</th>\n",
       "      <td>2018</td>\n",
       "      <td>09</td>\n",
       "      <td>-11.0</td>\n",
       "      <td>-16.0</td>\n",
       "    </tr>\n",
       "    <tr>\n",
       "      <th>2</th>\n",
       "      <td>2018</td>\n",
       "      <td>09</td>\n",
       "      <td>-9.0</td>\n",
       "      <td>-13.0</td>\n",
       "    </tr>\n",
       "    <tr>\n",
       "      <th>3</th>\n",
       "      <td>2018</td>\n",
       "      <td>09</td>\n",
       "      <td>-7.0</td>\n",
       "      <td>-18.0</td>\n",
       "    </tr>\n",
       "    <tr>\n",
       "      <th>4</th>\n",
       "      <td>2018</td>\n",
       "      <td>09</td>\n",
       "      <td>57.0</td>\n",
       "      <td>73.0</td>\n",
       "    </tr>\n",
       "    <tr>\n",
       "      <th>...</th>\n",
       "      <td>...</td>\n",
       "      <td>...</td>\n",
       "      <td>...</td>\n",
       "      <td>...</td>\n",
       "    </tr>\n",
       "    <tr>\n",
       "      <th>796323</th>\n",
       "      <td>2018</td>\n",
       "      <td>09</td>\n",
       "      <td>-7.0</td>\n",
       "      <td>-17.0</td>\n",
       "    </tr>\n",
       "    <tr>\n",
       "      <th>796324</th>\n",
       "      <td>2018</td>\n",
       "      <td>09</td>\n",
       "      <td>21.0</td>\n",
       "      <td>3.0</td>\n",
       "    </tr>\n",
       "    <tr>\n",
       "      <th>796325</th>\n",
       "      <td>2018</td>\n",
       "      <td>09</td>\n",
       "      <td>-5.0</td>\n",
       "      <td>-14.0</td>\n",
       "    </tr>\n",
       "    <tr>\n",
       "      <th>796326</th>\n",
       "      <td>2018</td>\n",
       "      <td>09</td>\n",
       "      <td>-8.0</td>\n",
       "      <td>12.0</td>\n",
       "    </tr>\n",
       "    <tr>\n",
       "      <th>796327</th>\n",
       "      <td>2018</td>\n",
       "      <td>09</td>\n",
       "      <td>-6.0</td>\n",
       "      <td>-9.0</td>\n",
       "    </tr>\n",
       "  </tbody>\n",
       "</table>\n",
       "<p>796328 rows × 4 columns</p>\n",
       "</div>"
      ],
      "text/plain": [
       "        year month  dep_delay  arr_delay\n",
       "0       2018    09       -8.0      -17.0\n",
       "1       2018    09      -11.0      -16.0\n",
       "2       2018    09       -9.0      -13.0\n",
       "3       2018    09       -7.0      -18.0\n",
       "4       2018    09       57.0       73.0\n",
       "...      ...   ...        ...        ...\n",
       "796323  2018    09       -7.0      -17.0\n",
       "796324  2018    09       21.0        3.0\n",
       "796325  2018    09       -5.0      -14.0\n",
       "796326  2018    09       -8.0       12.0\n",
       "796327  2018    09       -6.0       -9.0\n",
       "\n",
       "[796328 rows x 4 columns]"
      ]
     },
     "execution_count": 22,
     "metadata": {},
     "output_type": "execute_result"
    }
   ],
   "source": [
    "flights_sample_delay"
   ]
  },
  {
   "cell_type": "code",
   "execution_count": 23,
   "id": "127a2764",
   "metadata": {},
   "outputs": [
    {
     "data": {
      "text/plain": [
       "<AxesSubplot:title={'center':'Average Monthly Arrival Delays'}, xlabel='month'>"
      ]
     },
     "execution_count": 23,
     "metadata": {},
     "output_type": "execute_result"
    },
    {
     "data": {
      "image/png": "[encoded data removed]",
      "text/plain": [
       "<Figure size 432x288 with 1 Axes>"
      ]
     },
     "metadata": {
      "needs_background": "light"
     },
     "output_type": "display_data"
    },
    {
     "data": {
      "image/png": "[encoded data removed]",
      "text/plain": [
       "<Figure size 432x288 with 1 Axes>"
      ]
     },
     "metadata": {
      "needs_background": "light"
     },
     "output_type": "display_data"
    }
   ],
   "source": [
    "flights_sample_delay.groupby(['year','month'])['dep_delay'].mean().unstack('year').plot.bar(title= 'Average Monthly Departure Delays')\n",
    "flights_sample_delay.groupby(['year','month'])['arr_delay'].mean().unstack('year').plot.bar(title= 'Average Monthly Arrival Delays')"
   ]
  },
  {
   "cell_type": "markdown",
   "id": "563db8f3",
   "metadata": {},
   "source": [
    "The monthly delays are different during the year. June, July , August are the months with more delays. In 2019, there is a significant delay in the month of February as well. This might be due to weather."
   ]
  },
  {
   "cell_type": "markdown",
   "id": "597b68d9",
   "metadata": {},
   "source": [
    "##### Does the weather affect the delay?\n",
    "\n",
    "Used the API to pull the weather information for flights. The weather is not taken for all the flights and the right representative sample is chosen to get the weather on four types:\n",
    "sunny\n",
    "cloudy\n",
    "rainy\n",
    "snow\n",
    "Test the hypothesis that these 4 delays are from the same distribution. If they are not, which ones are significantly different? "
   ]
  },
  {
   "cell_type": "code",
   "execution_count": null,
   "id": "665a0086",
   "metadata": {},
   "outputs": [],
   "source": []
  },
  {
   "cell_type": "markdown",
   "id": "4f869b28",
   "metadata": {},
   "source": [
    "##### How taxi times changing during the day? Does higher traffic lead to bigger taxi times?"
   ]
  },
  {
   "cell_type": "code",
   "execution_count": 24,
   "id": "6fccb9e1",
   "metadata": {},
   "outputs": [],
   "source": [
    "flights_sample_taxi=flights.filter(['year','month','day','crs_dep_time','wheels_off','taxi_out','crs_arr_time','wheels_on','taxi_in'], axis=1)"
   ]
  },
  {
   "cell_type": "code",
   "execution_count": 25,
   "id": "143cba05",
   "metadata": {},
   "outputs": [],
   "source": [
    "bins = [0, 300, 600, 900, 1200, 1500, 1800, 2100, 2400]\n",
    "flights_sample_taxi['binned_dep'] = np.searchsorted(bins, flights_sample_taxi['crs_dep_time'].values)\n",
    "flights_sample_taxi['binned_arr'] = np.searchsorted(bins, flights_sample_taxi['crs_arr_time'].values)"
   ]
  },
  {
   "cell_type": "code",
   "execution_count": 26,
   "id": "5a31269b",
   "metadata": {},
   "outputs": [],
   "source": [
    "flights_sample_taxi= flights_sample_taxi.dropna(how='all', subset=['taxi_out', 'taxi_in'])\n"
   ]
  },
  {
   "cell_type": "code",
   "execution_count": 27,
   "id": "cdecfc63",
   "metadata": {},
   "outputs": [
    {
     "data": {
      "text/plain": [
       "<AxesSubplot:title={'center':'Departure Flight traffic'}>"
      ]
     },
     "execution_count": 27,
     "metadata": {},
     "output_type": "execute_result"
    },
    {
     "data": {
      "image/png": "[encoded data removed]",
      "text/plain": [
       "<Figure size 432x288 with 1 Axes>"
      ]
     },
     "metadata": {
      "needs_background": "light"
     },
     "output_type": "display_data"
    }
   ],
   "source": [
    "flights_sample_taxi['binned_dep'].value_counts().plot.bar(title='Departure Flight traffic')"
   ]
  },
  {
   "cell_type": "code",
   "execution_count": 28,
   "id": "c1de5836",
   "metadata": {},
   "outputs": [
    {
     "data": {
      "text/plain": [
       "<AxesSubplot:title={'center':'Arrival Flight traffic'}>"
      ]
     },
     "execution_count": 28,
     "metadata": {},
     "output_type": "execute_result"
    },
    {
     "data": {
      "image/png": "[encoded data removed]",
      "text/plain": [
       "<Figure size 432x288 with 1 Axes>"
      ]
     },
     "metadata": {
      "needs_background": "light"
     },
     "output_type": "display_data"
    }
   ],
   "source": [
    "flights_sample_taxi['binned_arr'].value_counts().plot.bar(title='Arrival Flight traffic')"
   ]
  },
  {
   "cell_type": "markdown",
   "id": "7006d679",
   "metadata": {},
   "source": [
    "Departure traffic is more in the bin 3 which is between 6am to 9am and Arrival traffic is almost same in the bins 4,5,6,7 which is between 9am to 9pm."
   ]
  },
  {
   "cell_type": "code",
   "execution_count": 29,
   "id": "21cb216d",
   "metadata": {},
   "outputs": [
    {
     "data": {
      "text/plain": [
       "<AxesSubplot:title={'center':'Departure time and taxi out'}, xlabel='binned_dep'>"
      ]
     },
     "execution_count": 29,
     "metadata": {},
     "output_type": "execute_result"
    },
    {
     "data": {
      "image/png": "[encoded data removed]",
      "text/plain": [
       "<Figure size 432x288 with 1 Axes>"
      ]
     },
     "metadata": {
      "needs_background": "light"
     },
     "output_type": "display_data"
    }
   ],
   "source": [
    "flights_sample_taxi.groupby(['binned_dep'])['taxi_out'].median().plot.bar(title='Departure time and taxi out')"
   ]
  },
  {
   "cell_type": "code",
   "execution_count": 30,
   "id": "2eb7ffeb",
   "metadata": {},
   "outputs": [
    {
     "data": {
      "text/plain": [
       "<AxesSubplot:title={'center':'Arrival time and taxi in'}, xlabel='binned_arr'>"
      ]
     },
     "execution_count": 30,
     "metadata": {},
     "output_type": "execute_result"
    },
    {
     "data": {
      "image/png": "[encoded data removed]",
      "text/plain": [
       "<Figure size 432x288 with 1 Axes>"
      ]
     },
     "metadata": {
      "needs_background": "light"
     },
     "output_type": "display_data"
    }
   ],
   "source": [
    "flights_sample_taxi.groupby(['binned_arr'])['taxi_in'].median().plot.bar(title='Arrival time and taxi in')\n"
   ]
  },
  {
   "cell_type": "markdown",
   "id": "483222c1",
   "metadata": {},
   "source": [
    "The taxi in and taxi out are more when the departure arrival traffic is more."
   ]
  },
  {
   "cell_type": "markdown",
   "id": "3127505a",
   "metadata": {},
   "source": [
    "#####  Are arrival delays caused by departure delays? Are airlines able to lower the delay during the flights?"
   ]
  },
  {
   "cell_type": "code",
   "execution_count": 31,
   "id": "c80c6916",
   "metadata": {},
   "outputs": [
    {
     "name": "stdout",
     "output_type": "stream",
     "text": [
      "0.7383025877530105\n",
      "0.2616974122469895\n"
     ]
    }
   ],
   "source": [
    "df = flights[['dep_delay','arr_delay']].dropna()\n",
    "df['diff'] = flights.arr_delay - flights.dep_delay\n",
    "\n",
    "pct_delay = df[df['diff'] <=0].shape[0] / df.shape[0]\n",
    "pct_other = df[df['diff'] >0].shape[0] / df.shape[0]\n",
    "print(pct_delay)\n",
    "print(pct_other)"
   ]
  },
  {
   "cell_type": "markdown",
   "id": "53a86e6f",
   "metadata": {},
   "source": [
    "Average percentage of delays already created before departure is pct_delay which is 0.738. The flights are able to lower the delay during flight as many flights had a shorter arrival delay than their departure delay"
   ]
  },
  {
   "cell_type": "markdown",
   "id": "e2bb7765",
   "metadata": {},
   "source": [
    "##### How many states cover 50% of US air traffic?"
   ]
  },
  {
   "cell_type": "code",
   "execution_count": 32,
   "id": "6c654518",
   "metadata": {},
   "outputs": [],
   "source": [
    "flights_sample_states = flights.filter(['origin_airport_id','origin','origin_city_name','dest_airport_id', 'dest', 'dest_city_name','air_time','year','month'], axis=1)"
   ]
  },
  {
   "cell_type": "code",
   "execution_count": 33,
   "id": "184d9cab",
   "metadata": {},
   "outputs": [],
   "source": [
    "city_split1 = flights_sample_states['origin_city_name'].str.split(',')\n",
    "flights_sample_states['origin_city'] = [x[0] for x in city_split1]\n",
    "flights_sample_states['origin_state'] = [x[1] for x in city_split1]\n",
    "city_split2 = flights_sample_states['dest_city_name'].str.split(',')\n",
    "flights_sample_states['dest_city'] = [x[0] for x in city_split2]\n",
    "flights_sample_states['dest_state'] = [x[1] for x in city_split2]"
   ]
  },
  {
   "cell_type": "code",
   "execution_count": 34,
   "id": "61082f18",
   "metadata": {},
   "outputs": [],
   "source": [
    "states_2018=flights_sample_states.loc[flights_sample_states['year'] == '2018', 'origin_state'].value_counts()\n",
    "states_2019=flights_sample_states.loc[flights_sample_states['year'] == '2019', 'origin_state'].value_counts()\n",
    "df_states_2018=pd.DataFrame(states_2018)\n",
    "df_states_2019=pd.DataFrame(states_2019)"
   ]
  },
  {
   "cell_type": "code",
   "execution_count": 35,
   "id": "9da6e43c",
   "metadata": {},
   "outputs": [],
   "source": [
    "df_states_2018['percentage']=df_states_2018['origin_state']*100/df_states_2018.origin_state.sum()\n",
    "df_states_2019['percentage']=df_states_2019['origin_state']*100/df_states_2019.origin_state.sum()"
   ]
  },
  {
   "cell_type": "code",
   "execution_count": 36,
   "id": "c6940693",
   "metadata": {},
   "outputs": [
    {
     "data": {
      "image/png": "[encoded data removed]",
      "text/plain": [
       "<Figure size 720x864 with 1 Axes>"
      ]
     },
     "metadata": {
      "needs_background": "light"
     },
     "output_type": "display_data"
    }
   ],
   "source": [
    "plt.barh(df_states_2018.index,df_states_2018.percentage,  color='green', hatch='/')\n",
    "\n",
    "\n",
    "plt.ylabel(\"States\")\n",
    "plt.xlabel(\"Percentage\")\n",
    "plt.title(\"Percentage of US air traffic in 2018\")\n",
    "\n",
    "fig = plt.gcf()\n",
    "fig.set_size_inches(10, 12)\n",
    "fig.savefig('airtraffic2018.png', dpi=100)\n",
    "\n",
    "plt.show()"
   ]
  },
  {
   "cell_type": "code",
   "execution_count": 37,
   "id": "3d223377",
   "metadata": {},
   "outputs": [
    {
     "data": {
      "image/png": "[encoded data removed]",
      "text/plain": [
       "<Figure size 720x864 with 1 Axes>"
      ]
     },
     "metadata": {
      "needs_background": "light"
     },
     "output_type": "display_data"
    }
   ],
   "source": [
    "plt.barh(df_states_2019.index,df_states_2019.percentage,  color='brown')\n",
    "\n",
    "\n",
    "plt.ylabel(\"States\")\n",
    "plt.xlabel(\"Percentage\")\n",
    "plt.title(\"Percentage of US air traffic in 2019\")\n",
    "\n",
    "fig = plt.gcf()\n",
    "fig.set_size_inches(10, 12)\n",
    "fig.savefig('airtraffic2019.png', dpi=100)\n",
    "\n",
    "plt.show()"
   ]
  },
  {
   "cell_type": "code",
   "execution_count": 38,
   "id": "dd719540",
   "metadata": {},
   "outputs": [
    {
     "name": "stdout",
     "output_type": "stream",
     "text": [
      "origin_state    209070.000000\n",
      "percentage          53.366312\n",
      "dtype: float64\n",
      "     origin_state  percentage\n",
      " CA         43340   11.062783\n",
      " TX         38403    9.802585\n",
      " FL         28186    7.194638\n",
      " IL         24803    6.331108\n",
      " GA         20915    5.338673\n",
      " NY         20571    5.250865\n",
      " NC         17865    4.560143\n",
      " CO         14987    3.825517\n"
     ]
    }
   ],
   "source": [
    "print(df_states_2018.iloc[:8].sum())\n",
    "print(df_states_2018.iloc[:8])"
   ]
  },
  {
   "cell_type": "markdown",
   "id": "49b42350",
   "metadata": {},
   "source": [
    "##### Will the planes fly faster when there is the departure delay? "
   ]
  },
  {
   "cell_type": "code",
   "execution_count": 39,
   "id": "8a2210fa",
   "metadata": {},
   "outputs": [],
   "source": [
    "df = flights[['dep_delay','arr_delay']].dropna()\n",
    "df['diff'] = flights.arr_delay - flights.dep_delay\n",
    "no_delay = df[df.dep_delay <=0]['diff']\n",
    "has_delay = df[df.dep_delay >0]['diff']\n"
   ]
  },
  {
   "cell_type": "code",
   "execution_count": 40,
   "id": "0623ba59",
   "metadata": {},
   "outputs": [
    {
     "name": "stdout",
     "output_type": "stream",
     "text": [
      "stat=-19.869, p=0.000\n",
      "Probably different distributions\n"
     ]
    }
   ],
   "source": [
    "stat, p = stats.ttest_ind(no_delay.values, has_delay.values)\n",
    "print('stat=%.3f, p=%.3f' % (stat, p))\n",
    "if p > 0.05:\n",
    "\tprint('Probably the same distribution')\n",
    "else:\n",
    "\tprint('Probably different distributions')\n"
   ]
  },
  {
   "cell_type": "markdown",
   "id": "29ba5591",
   "metadata": {},
   "source": [
    "H0 that delays and non-delays have the same mean\n",
    "p < alpha so there is sufficient evidence to support the claim that has_delays has a different mean than no_delays''' \n"
   ]
  },
  {
   "cell_type": "markdown",
   "id": "51d3c37e",
   "metadata": {},
   "source": [
    "##### When (which hour) do most 'LONG', 'SHORT', 'MEDIUM' haul flights take off?"
   ]
  },
  {
   "cell_type": "code",
   "execution_count": 41,
   "id": "c8dc0e20",
   "metadata": {},
   "outputs": [
    {
     "data": {
      "text/html": [
       "<div>\n",
       "<style scoped>\n",
       "    .dataframe tbody tr th:only-of-type {\n",
       "        vertical-align: middle;\n",
       "    }\n",
       "\n",
       "    .dataframe tbody tr th {\n",
       "        vertical-align: top;\n",
       "    }\n",
       "\n",
       "    .dataframe thead th {\n",
       "        text-align: right;\n",
       "    }\n",
       "</style>\n",
       "<table border=\"1\" class=\"dataframe\">\n",
       "  <thead>\n",
       "    <tr style=\"text-align: right;\">\n",
       "      <th></th>\n",
       "      <th>dep_time</th>\n",
       "      <th>flight_cat</th>\n",
       "    </tr>\n",
       "  </thead>\n",
       "  <tbody>\n",
       "    <tr>\n",
       "      <th>0</th>\n",
       "      <td>7</td>\n",
       "      <td>short_haul</td>\n",
       "    </tr>\n",
       "    <tr>\n",
       "      <th>1</th>\n",
       "      <td>5</td>\n",
       "      <td>short_haul</td>\n",
       "    </tr>\n",
       "    <tr>\n",
       "      <th>2</th>\n",
       "      <td>11</td>\n",
       "      <td>short_haul</td>\n",
       "    </tr>\n",
       "    <tr>\n",
       "      <th>3</th>\n",
       "      <td>15</td>\n",
       "      <td>short_haul</td>\n",
       "    </tr>\n",
       "    <tr>\n",
       "      <th>4</th>\n",
       "      <td>22</td>\n",
       "      <td>short_haul</td>\n",
       "    </tr>\n",
       "  </tbody>\n",
       "</table>\n",
       "</div>"
      ],
      "text/plain": [
       "   dep_time  flight_cat\n",
       "0         7  short_haul\n",
       "1         5  short_haul\n",
       "2        11  short_haul\n",
       "3        15  short_haul\n",
       "4        22  short_haul"
      ]
     },
     "execution_count": 41,
     "metadata": {},
     "output_type": "execute_result"
    }
   ],
   "source": [
    "temp = flights[['air_time','dep_time']].dropna()\n",
    "\n",
    "conditions = [temp.air_time <= 3*60,\n",
    "              (temp.air_time > 3*60) & (temp.air_time <= 7*60),\n",
    "              temp.air_time > 7*60]\n",
    "\n",
    "choices = ['short_haul','medium_haul','long_haul']\n",
    "\n",
    "temp['flight_cat'] = np.select(conditions, choices, default=0)\n",
    "# with flight_cat made, don't need air_time\n",
    "temp.drop('air_time',axis=1, inplace=True)\n",
    "temp.dep_time = temp.dep_time.astype(int).astype(str)\n",
    "def hours(x):\n",
    "    if len(x) > 2:\n",
    "        return int(x[:-2]) + int(x[-2:])/60 \n",
    "    else:\n",
    "        return int(x[-2:])/60\n",
    "\n",
    "temp.dep_time = temp.dep_time.map(lambda x: int(hours(x)//1) )\n",
    "temp.head()"
   ]
  },
  {
   "cell_type": "code",
   "execution_count": 42,
   "id": "dd20ba40",
   "metadata": {},
   "outputs": [
    {
     "data": {
      "text/plain": [
       "<matplotlib.legend.Legend at 0x2fce06250>"
      ]
     },
     "execution_count": 42,
     "metadata": {},
     "output_type": "execute_result"
    },
    {
     "data": {
      "image/png": "[encoded data removed]",
      "text/plain": [
       "<Figure size 720x432 with 1 Axes>"
      ]
     },
     "metadata": {
      "needs_background": "light"
     },
     "output_type": "display_data"
    }
   ],
   "source": [
    "x1 = temp[temp.flight_cat == 'short_haul'].groupby('dep_time').count().reset_index()\n",
    "x2 = temp[temp.flight_cat == 'medium_haul'].groupby('dep_time').count().reset_index()\n",
    "x3 = temp[temp.flight_cat == 'long_haul'].groupby('dep_time').count().reset_index()\n",
    "\n",
    "fig, axes = plt.subplots(figsize = (10,6))\n",
    "axes.bar(x1.dep_time.values, x1.flight_cat.values, color='g', label='short_haul' )\n",
    "axes.bar(x2.dep_time.values, x2.flight_cat.values, color='r', label='medium_haul')\n",
    "axes.bar(x3.dep_time.values, x3.flight_cat.values, color='b', label='long_haul')\n",
    "axes.set(title='Count of Flight Category by Hour', ylabel='Count', xlabel='Hour')\n",
    "plt.legend()"
   ]
  },
  {
   "cell_type": "code",
   "execution_count": 43,
   "id": "52ed68f4",
   "metadata": {},
   "outputs": [
    {
     "data": {
      "text/plain": [
       "<matplotlib.legend.Legend at 0x2fb655370>"
      ]
     },
     "execution_count": 43,
     "metadata": {},
     "output_type": "execute_result"
    },
    {
     "data": {
      "image/png": "[encoded data removed]",
      "text/plain": [
       "<Figure size 720x432 with 1 Axes>"
      ]
     },
     "metadata": {
      "needs_background": "light"
     },
     "output_type": "display_data"
    }
   ],
   "source": [
    "x3 = temp[temp.flight_cat == 'long_haul'].groupby('dep_time').count().reset_index()\n",
    "\n",
    "fig, axes = plt.subplots(figsize = (10,6))\n",
    "axes.bar(x3.dep_time.values, x3.flight_cat.values, color='b', label='long_haul')\n",
    "axes.set(title='Count of Flight Category by Hour', ylabel='Count', xlabel='Hour')\n",
    "plt.legend()"
   ]
  },
  {
   "cell_type": "markdown",
   "id": "50645a23",
   "metadata": {},
   "source": [
    "##### Finding the top 10 the bussiest airports. Does the biggest number of flights mean that the biggest number of passengers went through the particular airport? How much traffic do these 10 airports cover?"
   ]
  },
  {
   "cell_type": "code",
   "execution_count": 44,
   "id": "c771b352",
   "metadata": {},
   "outputs": [
    {
     "data": {
      "text/html": [
       "<div>\n",
       "<style scoped>\n",
       "    .dataframe tbody tr th:only-of-type {\n",
       "        vertical-align: middle;\n",
       "    }\n",
       "\n",
       "    .dataframe tbody tr th {\n",
       "        vertical-align: top;\n",
       "    }\n",
       "\n",
       "    .dataframe thead th {\n",
       "        text-align: right;\n",
       "    }\n",
       "</style>\n",
       "<table border=\"1\" class=\"dataframe\">\n",
       "  <thead>\n",
       "    <tr style=\"text-align: right;\">\n",
       "      <th></th>\n",
       "      <th>passengers</th>\n",
       "    </tr>\n",
       "    <tr>\n",
       "      <th>airport_id</th>\n",
       "      <th></th>\n",
       "    </tr>\n",
       "  </thead>\n",
       "  <tbody>\n",
       "    <tr>\n",
       "      <th>Atlanta, GA</th>\n",
       "      <td>515300223</td>\n",
       "    </tr>\n",
       "    <tr>\n",
       "      <th>Chicago, IL</th>\n",
       "      <td>498550393</td>\n",
       "    </tr>\n",
       "    <tr>\n",
       "      <th>New York, NY</th>\n",
       "      <td>447451637</td>\n",
       "    </tr>\n",
       "    <tr>\n",
       "      <th>Los Angeles, CA</th>\n",
       "      <td>410933768</td>\n",
       "    </tr>\n",
       "    <tr>\n",
       "      <th>Dallas/Fort Worth, TX</th>\n",
       "      <td>328157387</td>\n",
       "    </tr>\n",
       "    <tr>\n",
       "      <th>Denver, CO</th>\n",
       "      <td>302146412</td>\n",
       "    </tr>\n",
       "    <tr>\n",
       "      <th>Houston, TX</th>\n",
       "      <td>276163311</td>\n",
       "    </tr>\n",
       "    <tr>\n",
       "      <th>San Francisco, CA</th>\n",
       "      <td>267290706</td>\n",
       "    </tr>\n",
       "    <tr>\n",
       "      <th>Las Vegas, NV</th>\n",
       "      <td>235167182</td>\n",
       "    </tr>\n",
       "    <tr>\n",
       "      <th>Seattle, WA</th>\n",
       "      <td>228632369</td>\n",
       "    </tr>\n",
       "  </tbody>\n",
       "</table>\n",
       "</div>"
      ],
      "text/plain": [
       "                       passengers\n",
       "airport_id                       \n",
       "Atlanta, GA             515300223\n",
       "Chicago, IL             498550393\n",
       "New York, NY            447451637\n",
       "Los Angeles, CA         410933768\n",
       "Dallas/Fort Worth, TX   328157387\n",
       "Denver, CO              302146412\n",
       "Houston, TX             276163311\n",
       "San Francisco, CA       267290706\n",
       "Las Vegas, NV           235167182\n",
       "Seattle, WA             228632369"
      ]
     },
     "execution_count": 44,
     "metadata": {},
     "output_type": "execute_result"
    }
   ],
   "source": [
    "df1 = passengers[['passengers','origin_city_name']]\n",
    "df1 = df1.rename(columns={'origin_city_name':'airport_id'})\n",
    "df2 = passengers[['passengers','dest_city_name']]\n",
    "df2 = df2.rename(columns={'dest_city_name':'airport_id'})\n",
    "df3 = pd.concat((df1,df2), axis=0)\n",
    "df3.groupby('airport_id').sum().sort_values('passengers', ascending=False).head(10)"
   ]
  },
  {
   "cell_type": "code",
   "execution_count": 45,
   "id": "3d5eac27",
   "metadata": {},
   "outputs": [
    {
     "data": {
      "text/plain": [
       "Chicago, IL              180730\n",
       "Atlanta, GA              131677\n",
       "New York, NY             119973\n",
       "Denver, CO               114665\n",
       "Houston, TX              110690\n",
       "Los Angeles, CA          103004\n",
       "Detroit, MI               95280\n",
       "Dallas/Fort Worth, TX     92821\n",
       "Washington, DC            92649\n",
       "Minneapolis, MN           86735\n",
       "Name: city_name, dtype: int64"
      ]
     },
     "execution_count": 45,
     "metadata": {},
     "output_type": "execute_result"
    }
   ],
   "source": [
    "df1 = passengers[['origin_city_name']]\n",
    "df1 = df1.rename(columns={'origin_city_name':'city_name'})\n",
    "df2 = passengers[['dest_city_name']]\n",
    "df2 = df2.rename(columns={'dest_city_name':'city_name'})\n",
    "df3 = pd.concat((df1,df2), axis=0)\n",
    "df3['city_name'].value_counts().head(10)"
   ]
  },
  {
   "cell_type": "markdown",
   "id": "105ed3a9",
   "metadata": {},
   "source": [
    "##### Do bigger delays lead to bigger fuel comsumption per passenger?\n",
    "\n",
    "We need to do four things to answer this as accurate as possible:\n",
    "Find out average monthly delay per air carrier (monthly delay is sum of all delays in 1 month)\n",
    "Find out distance covered monthly by different air carriers\n",
    "Find out number of passengers that were carried by different air carriers\n",
    "Find out total fuel consumption per air carrier.\n",
    "Use this information to get the average fuel comsumption per passenger per km. Is this higher for the airlines with bigger average delays? "
   ]
  },
  {
   "cell_type": "code",
   "execution_count": 46,
   "id": "9326b9a1",
   "metadata": {},
   "outputs": [
    {
     "data": {
      "text/plain": [
       "(377,)"
      ]
     },
     "execution_count": 46,
     "metadata": {},
     "output_type": "execute_result"
    }
   ],
   "source": [
    "total_monthly_passengers_per_carrier = passengers[passengers.year.isin([2018, 2019])].groupby('unique_carrier').sum()['passengers']\n",
    "passengers.unique_carrier.unique().shape"
   ]
  },
  {
   "cell_type": "code",
   "execution_count": 47,
   "id": "0d9712ab",
   "metadata": {},
   "outputs": [],
   "source": [
    "tot_monthly_fuel_per_carrier = fuel[fuel.year.isin([2018, 2019])].groupby('unique_carrier').sum()['total_gallons']\n"
   ]
  },
  {
   "cell_type": "markdown",
   "id": "50d26c9a",
   "metadata": {},
   "source": [
    "Rows are less than  fuel.unique_carrier.unique() likely because there are carriers that only flew in other years than the ones we've selected. "
   ]
  },
  {
   "cell_type": "code",
   "execution_count": 48,
   "id": "dc8c9c35",
   "metadata": {},
   "outputs": [],
   "source": [
    "carrier=flights.filter(['op_unique_carrier','dep_delay','arr_delay','month'], axis=1)\n",
    "carrier.rename(columns={'op_unique_carrier':'carrier','arr_delay':'delay'},inplace=True)\n",
    "air_carrier_delay=pd.DataFrame(carrier.groupby(['carrier','month'])['delay'].mean())\n",
    "# Delay used is only Arrival Delay as that would include the Departure Delay\n"
   ]
  },
  {
   "cell_type": "code",
   "execution_count": 51,
   "id": "683b2b3a",
   "metadata": {},
   "outputs": [
    {
     "data": {
      "text/plain": [
       "28"
      ]
     },
     "execution_count": 51,
     "metadata": {},
     "output_type": "execute_result"
    }
   ],
   "source": [
    "len(flights.groupby('op_unique_carrier').count())"
   ]
  },
  {
   "cell_type": "code",
   "execution_count": 52,
   "id": "6e0a7f79",
   "metadata": {},
   "outputs": [
    {
     "data": {
      "text/html": [
       "<div>\n",
       "<style scoped>\n",
       "    .dataframe tbody tr th:only-of-type {\n",
       "        vertical-align: middle;\n",
       "    }\n",
       "\n",
       "    .dataframe tbody tr th {\n",
       "        vertical-align: top;\n",
       "    }\n",
       "\n",
       "    .dataframe thead th {\n",
       "        text-align: right;\n",
       "    }\n",
       "</style>\n",
       "<table border=\"1\" class=\"dataframe\">\n",
       "  <thead>\n",
       "    <tr style=\"text-align: right;\">\n",
       "      <th></th>\n",
       "      <th></th>\n",
       "      <th>distance</th>\n",
       "    </tr>\n",
       "    <tr>\n",
       "      <th>carrier</th>\n",
       "      <th>month</th>\n",
       "      <th></th>\n",
       "    </tr>\n",
       "  </thead>\n",
       "  <tbody>\n",
       "    <tr>\n",
       "      <th rowspan=\"5\" valign=\"top\">9E</th>\n",
       "      <th>01</th>\n",
       "      <td>869550</td>\n",
       "    </tr>\n",
       "    <tr>\n",
       "      <th>02</th>\n",
       "      <td>833194</td>\n",
       "    </tr>\n",
       "    <tr>\n",
       "      <th>03</th>\n",
       "      <td>1016790</td>\n",
       "    </tr>\n",
       "    <tr>\n",
       "      <th>04</th>\n",
       "      <td>1015072</td>\n",
       "    </tr>\n",
       "    <tr>\n",
       "      <th>05</th>\n",
       "      <td>998126</td>\n",
       "    </tr>\n",
       "  </tbody>\n",
       "</table>\n",
       "</div>"
      ],
      "text/plain": [
       "               distance\n",
       "carrier month          \n",
       "9E      01       869550\n",
       "        02       833194\n",
       "        03      1016790\n",
       "        04      1015072\n",
       "        05       998126"
      ]
     },
     "execution_count": 52,
     "metadata": {},
     "output_type": "execute_result"
    }
   ],
   "source": [
    "distance=flights.filter(['op_unique_carrier','distance','month'])\n",
    "distance.rename(columns={'op_unique_carrier':'carrier'},inplace=True)\n",
    "carrier_distance=pd.DataFrame(distance.groupby(['carrier','month'])['distance'].sum())\n",
    "carrier_distance.head()"
   ]
  },
  {
   "cell_type": "code",
   "execution_count": 53,
   "id": "cbd73aea",
   "metadata": {},
   "outputs": [
    {
     "data": {
      "text/html": [
       "<div>\n",
       "<style scoped>\n",
       "    .dataframe tbody tr th:only-of-type {\n",
       "        vertical-align: middle;\n",
       "    }\n",
       "\n",
       "    .dataframe tbody tr th {\n",
       "        vertical-align: top;\n",
       "    }\n",
       "\n",
       "    .dataframe thead th {\n",
       "        text-align: right;\n",
       "    }\n",
       "</style>\n",
       "<table border=\"1\" class=\"dataframe\">\n",
       "  <thead>\n",
       "    <tr style=\"text-align: right;\">\n",
       "      <th></th>\n",
       "      <th>carrier</th>\n",
       "      <th>month</th>\n",
       "      <th>distance</th>\n",
       "    </tr>\n",
       "  </thead>\n",
       "  <tbody>\n",
       "    <tr>\n",
       "      <th>0</th>\n",
       "      <td>9E</td>\n",
       "      <td>01</td>\n",
       "      <td>869550</td>\n",
       "    </tr>\n",
       "    <tr>\n",
       "      <th>1</th>\n",
       "      <td>9E</td>\n",
       "      <td>02</td>\n",
       "      <td>833194</td>\n",
       "    </tr>\n",
       "    <tr>\n",
       "      <th>2</th>\n",
       "      <td>9E</td>\n",
       "      <td>03</td>\n",
       "      <td>1016790</td>\n",
       "    </tr>\n",
       "    <tr>\n",
       "      <th>3</th>\n",
       "      <td>9E</td>\n",
       "      <td>04</td>\n",
       "      <td>1015072</td>\n",
       "    </tr>\n",
       "    <tr>\n",
       "      <th>4</th>\n",
       "      <td>9E</td>\n",
       "      <td>05</td>\n",
       "      <td>998126</td>\n",
       "    </tr>\n",
       "    <tr>\n",
       "      <th>...</th>\n",
       "      <td>...</td>\n",
       "      <td>...</td>\n",
       "      <td>...</td>\n",
       "    </tr>\n",
       "    <tr>\n",
       "      <th>315</th>\n",
       "      <td>ZW</td>\n",
       "      <td>08</td>\n",
       "      <td>354061</td>\n",
       "    </tr>\n",
       "    <tr>\n",
       "      <th>316</th>\n",
       "      <td>ZW</td>\n",
       "      <td>09</td>\n",
       "      <td>335590</td>\n",
       "    </tr>\n",
       "    <tr>\n",
       "      <th>317</th>\n",
       "      <td>ZW</td>\n",
       "      <td>10</td>\n",
       "      <td>346677</td>\n",
       "    </tr>\n",
       "    <tr>\n",
       "      <th>318</th>\n",
       "      <td>ZW</td>\n",
       "      <td>11</td>\n",
       "      <td>335692</td>\n",
       "    </tr>\n",
       "    <tr>\n",
       "      <th>319</th>\n",
       "      <td>ZW</td>\n",
       "      <td>12</td>\n",
       "      <td>330497</td>\n",
       "    </tr>\n",
       "  </tbody>\n",
       "</table>\n",
       "<p>320 rows × 3 columns</p>\n",
       "</div>"
      ],
      "text/plain": [
       "    carrier month  distance\n",
       "0        9E    01    869550\n",
       "1        9E    02    833194\n",
       "2        9E    03   1016790\n",
       "3        9E    04   1015072\n",
       "4        9E    05    998126\n",
       "..      ...   ...       ...\n",
       "315      ZW    08    354061\n",
       "316      ZW    09    335590\n",
       "317      ZW    10    346677\n",
       "318      ZW    11    335692\n",
       "319      ZW    12    330497\n",
       "\n",
       "[320 rows x 3 columns]"
      ]
     },
     "execution_count": 53,
     "metadata": {},
     "output_type": "execute_result"
    }
   ],
   "source": [
    "carrier_distance.reset_index()"
   ]
  },
  {
   "cell_type": "code",
   "execution_count": 54,
   "id": "6521e5ee",
   "metadata": {},
   "outputs": [],
   "source": [
    "h1 = total_monthly_passengers_per_carrier.reset_index()\n",
    "h2 = tot_monthly_fuel_per_carrier.reset_index()\n",
    "h3 = h2.merge(h1, how='left',on='unique_carrier')\n",
    "h3.rename(columns={'unique_carrier':'carrier'}, inplace=True)\n",
    "carrierlist = h3.carrier.to_list()"
   ]
  },
  {
   "cell_type": "code",
   "execution_count": 55,
   "id": "4c19a69e",
   "metadata": {},
   "outputs": [
    {
     "data": {
      "text/html": [
       "<div>\n",
       "<style scoped>\n",
       "    .dataframe tbody tr th:only-of-type {\n",
       "        vertical-align: middle;\n",
       "    }\n",
       "\n",
       "    .dataframe tbody tr th {\n",
       "        vertical-align: top;\n",
       "    }\n",
       "\n",
       "    .dataframe thead th {\n",
       "        text-align: right;\n",
       "    }\n",
       "</style>\n",
       "<table border=\"1\" class=\"dataframe\">\n",
       "  <thead>\n",
       "    <tr style=\"text-align: right;\">\n",
       "      <th></th>\n",
       "      <th>carrier</th>\n",
       "      <th>month</th>\n",
       "      <th>distance</th>\n",
       "      <th>total_gallons</th>\n",
       "      <th>passengers</th>\n",
       "      <th>avg_gall_pass_km</th>\n",
       "    </tr>\n",
       "  </thead>\n",
       "  <tbody>\n",
       "    <tr>\n",
       "      <th>12</th>\n",
       "      <td>AA</td>\n",
       "      <td>01</td>\n",
       "      <td>7483035</td>\n",
       "      <td>6.416096e+09</td>\n",
       "      <td>304746529</td>\n",
       "      <td>0.000003</td>\n",
       "    </tr>\n",
       "    <tr>\n",
       "      <th>13</th>\n",
       "      <td>AA</td>\n",
       "      <td>02</td>\n",
       "      <td>6995272</td>\n",
       "      <td>6.416096e+09</td>\n",
       "      <td>304746529</td>\n",
       "      <td>0.000003</td>\n",
       "    </tr>\n",
       "    <tr>\n",
       "      <th>14</th>\n",
       "      <td>AA</td>\n",
       "      <td>03</td>\n",
       "      <td>7975192</td>\n",
       "      <td>6.416096e+09</td>\n",
       "      <td>304746529</td>\n",
       "      <td>0.000003</td>\n",
       "    </tr>\n",
       "    <tr>\n",
       "      <th>15</th>\n",
       "      <td>AA</td>\n",
       "      <td>04</td>\n",
       "      <td>7689672</td>\n",
       "      <td>6.416096e+09</td>\n",
       "      <td>304746529</td>\n",
       "      <td>0.000003</td>\n",
       "    </tr>\n",
       "    <tr>\n",
       "      <th>16</th>\n",
       "      <td>AA</td>\n",
       "      <td>05</td>\n",
       "      <td>7866868</td>\n",
       "      <td>6.416096e+09</td>\n",
       "      <td>304746529</td>\n",
       "      <td>0.000003</td>\n",
       "    </tr>\n",
       "  </tbody>\n",
       "</table>\n",
       "</div>"
      ],
      "text/plain": [
       "   carrier month  distance  total_gallons  passengers  avg_gall_pass_km\n",
       "12      AA    01   7483035   6.416096e+09   304746529          0.000003\n",
       "13      AA    02   6995272   6.416096e+09   304746529          0.000003\n",
       "14      AA    03   7975192   6.416096e+09   304746529          0.000003\n",
       "15      AA    04   7689672   6.416096e+09   304746529          0.000003\n",
       "16      AA    05   7866868   6.416096e+09   304746529          0.000003"
      ]
     },
     "execution_count": 55,
     "metadata": {},
     "output_type": "execute_result"
    }
   ],
   "source": [
    "h4 = carrier_distance.reset_index()\n",
    "h4 = h4[h4.carrier.isin(carrierlist)]\n",
    "h5 = h4.merge(h3, how='left',on='carrier')\n",
    "h5 = h5[h5.total_gallons !=0]\n",
    "h5['avg_gall_pass_km'] = h5.total_gallons / h5.passengers  / h5.distance\n",
    "h5.head()"
   ]
  },
  {
   "cell_type": "code",
   "execution_count": 58,
   "id": "040fe6c1",
   "metadata": {},
   "outputs": [
    {
     "data": {
      "text/html": [
       "<div>\n",
       "<style scoped>\n",
       "    .dataframe tbody tr th:only-of-type {\n",
       "        vertical-align: middle;\n",
       "    }\n",
       "\n",
       "    .dataframe tbody tr th {\n",
       "        vertical-align: top;\n",
       "    }\n",
       "\n",
       "    .dataframe thead th {\n",
       "        text-align: right;\n",
       "    }\n",
       "</style>\n",
       "<table border=\"1\" class=\"dataframe\">\n",
       "  <thead>\n",
       "    <tr style=\"text-align: right;\">\n",
       "      <th></th>\n",
       "      <th>carrier</th>\n",
       "      <th>month</th>\n",
       "      <th>distance</th>\n",
       "      <th>total_gallons</th>\n",
       "      <th>passengers</th>\n",
       "      <th>avg_gall_pass_km</th>\n",
       "      <th>carrier_month</th>\n",
       "    </tr>\n",
       "  </thead>\n",
       "  <tbody>\n",
       "    <tr>\n",
       "      <th>12</th>\n",
       "      <td>AA</td>\n",
       "      <td>01</td>\n",
       "      <td>7483035</td>\n",
       "      <td>6.416096e+09</td>\n",
       "      <td>304746529</td>\n",
       "      <td>0.000003</td>\n",
       "      <td>AA01</td>\n",
       "    </tr>\n",
       "    <tr>\n",
       "      <th>13</th>\n",
       "      <td>AA</td>\n",
       "      <td>02</td>\n",
       "      <td>6995272</td>\n",
       "      <td>6.416096e+09</td>\n",
       "      <td>304746529</td>\n",
       "      <td>0.000003</td>\n",
       "      <td>AA02</td>\n",
       "    </tr>\n",
       "    <tr>\n",
       "      <th>14</th>\n",
       "      <td>AA</td>\n",
       "      <td>03</td>\n",
       "      <td>7975192</td>\n",
       "      <td>6.416096e+09</td>\n",
       "      <td>304746529</td>\n",
       "      <td>0.000003</td>\n",
       "      <td>AA03</td>\n",
       "    </tr>\n",
       "    <tr>\n",
       "      <th>15</th>\n",
       "      <td>AA</td>\n",
       "      <td>04</td>\n",
       "      <td>7689672</td>\n",
       "      <td>6.416096e+09</td>\n",
       "      <td>304746529</td>\n",
       "      <td>0.000003</td>\n",
       "      <td>AA04</td>\n",
       "    </tr>\n",
       "    <tr>\n",
       "      <th>16</th>\n",
       "      <td>AA</td>\n",
       "      <td>05</td>\n",
       "      <td>7866868</td>\n",
       "      <td>6.416096e+09</td>\n",
       "      <td>304746529</td>\n",
       "      <td>0.000003</td>\n",
       "      <td>AA05</td>\n",
       "    </tr>\n",
       "  </tbody>\n",
       "</table>\n",
       "</div>"
      ],
      "text/plain": [
       "   carrier month  distance  total_gallons  passengers  avg_gall_pass_km  \\\n",
       "12      AA    01   7483035   6.416096e+09   304746529          0.000003   \n",
       "13      AA    02   6995272   6.416096e+09   304746529          0.000003   \n",
       "14      AA    03   7975192   6.416096e+09   304746529          0.000003   \n",
       "15      AA    04   7689672   6.416096e+09   304746529          0.000003   \n",
       "16      AA    05   7866868   6.416096e+09   304746529          0.000003   \n",
       "\n",
       "   carrier_month  \n",
       "12          AA01  \n",
       "13          AA02  \n",
       "14          AA03  \n",
       "15          AA04  \n",
       "16          AA05  "
      ]
     },
     "execution_count": 58,
     "metadata": {},
     "output_type": "execute_result"
    }
   ],
   "source": [
    "h5['carrier_month'] = h5.carrier + h5.month.astype(str)\n",
    "h5.head()"
   ]
  },
  {
   "cell_type": "code",
   "execution_count": 56,
   "id": "151135bf",
   "metadata": {},
   "outputs": [
    {
     "data": {
      "text/html": [
       "<div>\n",
       "<style scoped>\n",
       "    .dataframe tbody tr th:only-of-type {\n",
       "        vertical-align: middle;\n",
       "    }\n",
       "\n",
       "    .dataframe tbody tr th {\n",
       "        vertical-align: top;\n",
       "    }\n",
       "\n",
       "    .dataframe thead th {\n",
       "        text-align: right;\n",
       "    }\n",
       "</style>\n",
       "<table border=\"1\" class=\"dataframe\">\n",
       "  <thead>\n",
       "    <tr style=\"text-align: right;\">\n",
       "      <th></th>\n",
       "      <th>carrier</th>\n",
       "      <th>month</th>\n",
       "      <th>delay</th>\n",
       "      <th>carrier_month</th>\n",
       "    </tr>\n",
       "  </thead>\n",
       "  <tbody>\n",
       "    <tr>\n",
       "      <th>0</th>\n",
       "      <td>9E</td>\n",
       "      <td>01</td>\n",
       "      <td>3.194748</td>\n",
       "      <td>9E01</td>\n",
       "    </tr>\n",
       "    <tr>\n",
       "      <th>1</th>\n",
       "      <td>9E</td>\n",
       "      <td>02</td>\n",
       "      <td>2.717070</td>\n",
       "      <td>9E02</td>\n",
       "    </tr>\n",
       "    <tr>\n",
       "      <th>2</th>\n",
       "      <td>9E</td>\n",
       "      <td>03</td>\n",
       "      <td>2.954590</td>\n",
       "      <td>9E03</td>\n",
       "    </tr>\n",
       "    <tr>\n",
       "      <th>3</th>\n",
       "      <td>9E</td>\n",
       "      <td>04</td>\n",
       "      <td>8.391178</td>\n",
       "      <td>9E04</td>\n",
       "    </tr>\n",
       "    <tr>\n",
       "      <th>4</th>\n",
       "      <td>9E</td>\n",
       "      <td>05</td>\n",
       "      <td>-0.049583</td>\n",
       "      <td>9E05</td>\n",
       "    </tr>\n",
       "  </tbody>\n",
       "</table>\n",
       "</div>"
      ],
      "text/plain": [
       "  carrier month     delay carrier_month\n",
       "0      9E    01  3.194748          9E01\n",
       "1      9E    02  2.717070          9E02\n",
       "2      9E    03  2.954590          9E03\n",
       "3      9E    04  8.391178          9E04\n",
       "4      9E    05 -0.049583          9E05"
      ]
     },
     "execution_count": 56,
     "metadata": {},
     "output_type": "execute_result"
    }
   ],
   "source": [
    "h6 = air_carrier_delay.reset_index()\n",
    "h6['carrier_month'] = h6.carrier + h6.month.astype(str)\n",
    "h6.head()"
   ]
  },
  {
   "cell_type": "code",
   "execution_count": 59,
   "id": "961fccd5",
   "metadata": {},
   "outputs": [
    {
     "data": {
      "text/html": [
       "<div>\n",
       "<style scoped>\n",
       "    .dataframe tbody tr th:only-of-type {\n",
       "        vertical-align: middle;\n",
       "    }\n",
       "\n",
       "    .dataframe tbody tr th {\n",
       "        vertical-align: top;\n",
       "    }\n",
       "\n",
       "    .dataframe thead th {\n",
       "        text-align: right;\n",
       "    }\n",
       "</style>\n",
       "<table border=\"1\" class=\"dataframe\">\n",
       "  <thead>\n",
       "    <tr style=\"text-align: right;\">\n",
       "      <th></th>\n",
       "      <th>carrier_x</th>\n",
       "      <th>month_x</th>\n",
       "      <th>delay</th>\n",
       "      <th>carrier_month</th>\n",
       "      <th>carrier_y</th>\n",
       "      <th>month_y</th>\n",
       "      <th>distance</th>\n",
       "      <th>total_gallons</th>\n",
       "      <th>passengers</th>\n",
       "      <th>avg_gall_pass_km</th>\n",
       "    </tr>\n",
       "  </thead>\n",
       "  <tbody>\n",
       "    <tr>\n",
       "      <th>17</th>\n",
       "      <td>AA</td>\n",
       "      <td>01</td>\n",
       "      <td>1.717503</td>\n",
       "      <td>AA01</td>\n",
       "      <td>AA</td>\n",
       "      <td>01</td>\n",
       "      <td>7483035.0</td>\n",
       "      <td>6.416096e+09</td>\n",
       "      <td>304746529.0</td>\n",
       "      <td>0.000003</td>\n",
       "    </tr>\n",
       "    <tr>\n",
       "      <th>18</th>\n",
       "      <td>AA</td>\n",
       "      <td>02</td>\n",
       "      <td>4.317717</td>\n",
       "      <td>AA02</td>\n",
       "      <td>AA</td>\n",
       "      <td>02</td>\n",
       "      <td>6995272.0</td>\n",
       "      <td>6.416096e+09</td>\n",
       "      <td>304746529.0</td>\n",
       "      <td>0.000003</td>\n",
       "    </tr>\n",
       "    <tr>\n",
       "      <th>19</th>\n",
       "      <td>AA</td>\n",
       "      <td>03</td>\n",
       "      <td>2.770161</td>\n",
       "      <td>AA03</td>\n",
       "      <td>AA</td>\n",
       "      <td>03</td>\n",
       "      <td>7975192.0</td>\n",
       "      <td>6.416096e+09</td>\n",
       "      <td>304746529.0</td>\n",
       "      <td>0.000003</td>\n",
       "    </tr>\n",
       "    <tr>\n",
       "      <th>20</th>\n",
       "      <td>AA</td>\n",
       "      <td>04</td>\n",
       "      <td>3.664842</td>\n",
       "      <td>AA04</td>\n",
       "      <td>AA</td>\n",
       "      <td>04</td>\n",
       "      <td>7689672.0</td>\n",
       "      <td>6.416096e+09</td>\n",
       "      <td>304746529.0</td>\n",
       "      <td>0.000003</td>\n",
       "    </tr>\n",
       "    <tr>\n",
       "      <th>21</th>\n",
       "      <td>AA</td>\n",
       "      <td>05</td>\n",
       "      <td>10.507044</td>\n",
       "      <td>AA05</td>\n",
       "      <td>AA</td>\n",
       "      <td>05</td>\n",
       "      <td>7866868.0</td>\n",
       "      <td>6.416096e+09</td>\n",
       "      <td>304746529.0</td>\n",
       "      <td>0.000003</td>\n",
       "    </tr>\n",
       "  </tbody>\n",
       "</table>\n",
       "</div>"
      ],
      "text/plain": [
       "   carrier_x month_x      delay carrier_month carrier_y month_y   distance  \\\n",
       "17        AA      01   1.717503          AA01        AA      01  7483035.0   \n",
       "18        AA      02   4.317717          AA02        AA      02  6995272.0   \n",
       "19        AA      03   2.770161          AA03        AA      03  7975192.0   \n",
       "20        AA      04   3.664842          AA04        AA      04  7689672.0   \n",
       "21        AA      05  10.507044          AA05        AA      05  7866868.0   \n",
       "\n",
       "    total_gallons   passengers  avg_gall_pass_km  \n",
       "17   6.416096e+09  304746529.0          0.000003  \n",
       "18   6.416096e+09  304746529.0          0.000003  \n",
       "19   6.416096e+09  304746529.0          0.000003  \n",
       "20   6.416096e+09  304746529.0          0.000003  \n",
       "21   6.416096e+09  304746529.0          0.000003  "
      ]
     },
     "execution_count": 59,
     "metadata": {},
     "output_type": "execute_result"
    }
   ],
   "source": [
    "h7 = h6.merge(h5,how='left',on='carrier_month').dropna()\n",
    "h7.head()"
   ]
  },
  {
   "cell_type": "code",
   "execution_count": 60,
   "id": "57a16087",
   "metadata": {},
   "outputs": [
    {
     "data": {
      "text/html": [
       "<div>\n",
       "<style scoped>\n",
       "    .dataframe tbody tr th:only-of-type {\n",
       "        vertical-align: middle;\n",
       "    }\n",
       "\n",
       "    .dataframe tbody tr th {\n",
       "        vertical-align: top;\n",
       "    }\n",
       "\n",
       "    .dataframe thead th {\n",
       "        text-align: right;\n",
       "    }\n",
       "</style>\n",
       "<table border=\"1\" class=\"dataframe\">\n",
       "  <thead>\n",
       "    <tr style=\"text-align: right;\">\n",
       "      <th></th>\n",
       "      <th>carrier_x</th>\n",
       "      <th>month_x</th>\n",
       "      <th>delay</th>\n",
       "      <th>avg_gall_pass_km</th>\n",
       "    </tr>\n",
       "  </thead>\n",
       "  <tbody>\n",
       "    <tr>\n",
       "      <th>17</th>\n",
       "      <td>AA</td>\n",
       "      <td>01</td>\n",
       "      <td>1.717503</td>\n",
       "      <td>0.000003</td>\n",
       "    </tr>\n",
       "    <tr>\n",
       "      <th>18</th>\n",
       "      <td>AA</td>\n",
       "      <td>02</td>\n",
       "      <td>4.317717</td>\n",
       "      <td>0.000003</td>\n",
       "    </tr>\n",
       "    <tr>\n",
       "      <th>19</th>\n",
       "      <td>AA</td>\n",
       "      <td>03</td>\n",
       "      <td>2.770161</td>\n",
       "      <td>0.000003</td>\n",
       "    </tr>\n",
       "    <tr>\n",
       "      <th>20</th>\n",
       "      <td>AA</td>\n",
       "      <td>04</td>\n",
       "      <td>3.664842</td>\n",
       "      <td>0.000003</td>\n",
       "    </tr>\n",
       "    <tr>\n",
       "      <th>21</th>\n",
       "      <td>AA</td>\n",
       "      <td>05</td>\n",
       "      <td>10.507044</td>\n",
       "      <td>0.000003</td>\n",
       "    </tr>\n",
       "  </tbody>\n",
       "</table>\n",
       "</div>"
      ],
      "text/plain": [
       "   carrier_x month_x      delay  avg_gall_pass_km\n",
       "17        AA      01   1.717503          0.000003\n",
       "18        AA      02   4.317717          0.000003\n",
       "19        AA      03   2.770161          0.000003\n",
       "20        AA      04   3.664842          0.000003\n",
       "21        AA      05  10.507044          0.000003"
      ]
     },
     "execution_count": 60,
     "metadata": {},
     "output_type": "execute_result"
    }
   ],
   "source": [
    "h8 = h7[['carrier_x','month_x','delay','avg_gall_pass_km']]\n",
    "h8.head()"
   ]
  },
  {
   "cell_type": "code",
   "execution_count": 61,
   "id": "e0e4464f",
   "metadata": {},
   "outputs": [
    {
     "data": {
      "image/png": "[encoded data removed]",
      "text/plain": [
       "<Figure size 413.375x360 with 1 Axes>"
      ]
     },
     "metadata": {
      "needs_background": "light"
     },
     "output_type": "display_data"
    }
   ],
   "source": [
    "g = sns.catplot(x=\"month_x\",y=\"delay\",kind='bar',hue='carrier_x',order=['01', '02', '03', '04', '05', '06', '07', '08', '09', '10', '11',\n",
    "       '12'],ci=False,data=h8)"
   ]
  },
  {
   "cell_type": "code",
   "execution_count": 62,
   "id": "aa1e73bb",
   "metadata": {},
   "outputs": [
    {
     "data": {
      "image/png": "[encoded data removed]",
      "text/plain": [
       "<Figure size 432x288 with 1 Axes>"
      ]
     },
     "metadata": {
      "needs_background": "light"
     },
     "output_type": "display_data"
    }
   ],
   "source": [
    "ax2 = sns.barplot(data = h8, x='carrier_x',y='avg_gall_pass_km')"
   ]
  },
  {
   "cell_type": "code",
   "execution_count": 63,
   "id": "8081908c",
   "metadata": {},
   "outputs": [
    {
     "data": {
      "image/png": "[encoded data removed]",
      "text/plain": [
       "<Figure size 432x288 with 1 Axes>"
      ]
     },
     "metadata": {
      "needs_background": "light"
     },
     "output_type": "display_data"
    }
   ],
   "source": [
    "ax = sns.barplot(data = h8, x='carrier_x',y='delay')"
   ]
  },
  {
   "cell_type": "code",
   "execution_count": null,
   "id": "64ae88f3",
   "metadata": {},
   "outputs": [],
   "source": []
  }
 ],
 "metadata": {
  "kernelspec": {
   "display_name": "flights_env",
   "language": "python",
   "name": "flights_env"
  },
  "language_info": {
   "codemirror_mode": {
    "name": "ipython",
    "version": 3
   },
   "file_extension": ".py",
   "mimetype": "text/x-python",
   "name": "python",
   "nbconvert_exporter": "python",
   "pygments_lexer": "ipython3",
   "version": "3.9.12"
  }
 },
 "nbformat": 4,
 "nbformat_minor": 5
}
